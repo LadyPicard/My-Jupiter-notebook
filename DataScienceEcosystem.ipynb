{
 "cells": [
  {
   "cell_type": "markdown",
   "id": "2a6bb1c0-97ea-421a-9026-083383160281",
   "metadata": {},
   "source": [
    "# Data Science Tools and Ecosystem"
   ]
  },
  {
   "cell_type": "markdown",
   "id": "37497b4d-ca83-47a6-8e1b-261cf90c56dd",
   "metadata": {},
   "source": [
    "## In this notebook, Data Science Tools and Ecosystem are summarized."
   ]
  },
  {
   "cell_type": "markdown",
   "id": "5ce16923-3698-4425-ab7a-2d9915c8835c",
   "metadata": {
    "tags": []
   },
   "source": [
    "**Objectives:**\n",
    "- List popular languages for Data Science\n",
    "- Table with commonly used libraries used by Data Scientists include\n",
    "- Examples of arithmetic expression in Python"
   ]
  },
  {
   "cell_type": "markdown",
   "id": "5cbb2cb9-8311-4646-adbe-7a0cf167edff",
   "metadata": {
    "tags": []
   },
   "source": [
    "### Some of the popular languages that Data Scientists use are:\n",
    "1. Python\n",
    "2. R\n",
    "3. SQL \n",
    "\n",
    "### Some of the commonly used libraries used by Data Scientists include:\n",
    "1. NumPy\n",
    "2. Tensorflow\n",
    "3. Pandas"
   ]
  },
  {
   "cell_type": "markdown",
   "id": "d0783e8e-765f-4f75-871a-31b863427f56",
   "metadata": {},
   "source": [
    "|Data Science Tools|\n",
    "|------------------|\n",
    "|Anaconda|\n",
    "|VS Code|\n",
    "|JupiterLab|  \n"
   ]
  },
  {
   "cell_type": "markdown",
   "id": "b6aedbfc-1cc7-4c21-85f4-4bc58e79c7fa",
   "metadata": {},
   "source": [
    "### Below are a few examples of evaluating arithmetic expressions in Python"
   ]
  },
  {
   "cell_type": "code",
   "execution_count": 4,
   "id": "86197bd1-ab0f-48f6-b35b-367ba571ec79",
   "metadata": {
    "tags": []
   },
   "outputs": [
    {
     "data": {
      "text/plain": [
       "17"
      ]
     },
     "execution_count": 4,
     "metadata": {},
     "output_type": "execute_result"
    }
   ],
   "source": [
    "# This a simple arithmetic expression to multiply then add integers\n",
    "(3*4)+5"
   ]
  },
  {
   "cell_type": "code",
   "execution_count": 5,
   "id": "dcf293a5-a6a8-47af-9ef2-153c42ebfcd6",
   "metadata": {
    "tags": []
   },
   "outputs": [
    {
     "data": {
      "text/plain": [
       "3.3333333333333335"
      ]
     },
     "execution_count": 5,
     "metadata": {},
     "output_type": "execute_result"
    }
   ],
   "source": [
    "# This will convert 200 minutes to hours by diving by 60\n",
    "200/60"
   ]
  },
  {
   "cell_type": "markdown",
   "id": "9b1bd588-1681-4a05-9b70-861de465f032",
   "metadata": {},
   "source": [
    "## Author \n",
    "Mariangela "
   ]
  },
  {
   "cell_type": "code",
   "execution_count": null,
   "id": "b01fe3b5-068a-4f6f-97c4-4ee0a09352ba",
   "metadata": {},
   "outputs": [],
   "source": []
  }
 ],
 "metadata": {
  "kernelspec": {
   "display_name": "Python",
   "language": "python",
   "name": "conda-env-python-py"
  },
  "language_info": {
   "codemirror_mode": {
    "name": "ipython",
    "version": 3
   },
   "file_extension": ".py",
   "mimetype": "text/x-python",
   "name": "python",
   "nbconvert_exporter": "python",
   "pygments_lexer": "ipython3",
   "version": "3.7.12"
  }
 },
 "nbformat": 4,
 "nbformat_minor": 5
}
